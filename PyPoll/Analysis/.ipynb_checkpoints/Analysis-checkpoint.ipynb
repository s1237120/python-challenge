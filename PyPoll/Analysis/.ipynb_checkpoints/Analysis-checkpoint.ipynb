{
 "cells": [
  {
   "cell_type": "code",
   "execution_count": 1,
   "id": "890fcf8a",
   "metadata": {},
   "outputs": [],
   "source": [
    "import os\n",
    "import csv"
   ]
  },
  {
   "cell_type": "code",
   "execution_count": 2,
   "id": "baecbb87",
   "metadata": {},
   "outputs": [],
   "source": [
    "csvpath=os.path.join(\"..\",\"Resources\",\"election_data.csv\") "
   ]
  },
  {
   "cell_type": "code",
   "execution_count": 33,
   "id": "d5a4d5cb",
   "metadata": {},
   "outputs": [
    {
     "name": "stdout",
     "output_type": "stream",
     "text": [
      "Election Results\n",
      "__________________\n",
      "Total Votes: 3521001\n",
      "__________________\n",
      "Khan: 63.000% (2218231)\n",
      "Correy: 20.000% (704200)\n",
      "Li: 14.000% (492940)\n",
      "O'Tooley: 3.000% (105630)\n",
      "__________________\n",
      "Winner is: Khan\n",
      "__________________\n"
     ]
    }
   ],
   "source": [
    "with open(csvpath) as csvfile:\n",
    "    csvreader=csv.reader(csvfile,delimiter=\",\")\n",
    "    \n",
    "    header=next(csvreader)\n",
    "    \n",
    "    num_row=0\n",
    "    candidate_list=[]\n",
    "    unique_list=[]\n",
    "    c1_vote_total=0\n",
    "    c2_vote_total=0\n",
    "    c3_vote_total=0\n",
    "    c4_vote_total=0\n",
    "\n",
    "    \n",
    "    for row in csvreader:\n",
    "        num_row+=1\n",
    "        candidate_list.append(row[2])\n",
    "        \n",
    "        if row[2] == \"O'Tooley\":\n",
    "            c1_vote_total+=1\n",
    "        elif row[2] == \"Li\":\n",
    "            c2_vote_total+=1\n",
    "        elif row[2] == \"Khan\":\n",
    "            c3_vote_total+=1\n",
    "        elif row[2]==\"Correy\":\n",
    "            c4_vote_total+=1\n",
    "\n",
    "    \n",
    "    c1_percent = c1_vote_total / num_row *100\n",
    "    c2_percent = c2_vote_total / num_row *100\n",
    "    c3_percent = c3_vote_total / num_row *100\n",
    "    c4_percent = c4_vote_total / num_row*100\n",
    "    \n",
    "    c1_percent = \"{0:.3f}\".format(c1_percent)\n",
    "    c2_percent = \"{0:.3f}\".format(c2_percent)\n",
    "    c3_percent = \"{0:.3f}\".format(c3_percent)\n",
    "    c4_percent = \"{0:.3f}\".format(c4_percent)\n",
    "    \n",
    "    dict={\"O'Tooley\": c1_vote_total, \"Li\": c2_vote_total,\"Khan\": c3_vote_total,\"Correy\": c4_vote_total}\n",
    "    \n",
    "    most_vote = max(dict, key=dict.get)\n",
    "   \n",
    "    candidate_list = list(set(candidate_list))\n",
    "    \n",
    "    print (\"Election Results\")\n",
    "    print (\"__________________\")\n",
    "    print(f\"Total Votes: {num_row}\")\n",
    "    print (\"__________________\")\n",
    "    print(f\"Khan: {c3_percent}% ({c3_vote_total})\")\n",
    "    print(f\"Correy: {c4_percent}% ({c4_vote_total})\")\n",
    "    print(f\"Li: {c2_percent}% ({c2_vote_total})\")\n",
    "    print(f\"O'Tooley: {c1_percent}% ({c1_vote_total})\")\n",
    "    print (\"__________________\")\n",
    "    print(f\"Winner is: {most_vote}\")\n",
    "    print (\"__________________\")      \n",
    "    \n",
    "    \n",
    "output_path=os.path.join(\"..\",\"Analysis\",\"Election Result.txt\")    \n",
    "with open(output_path, 'w') as file:\n",
    "    file.write(\"Election Results\")\n",
    "    file.write('\\n')\n",
    "    file.write(\"__________________\")\n",
    "    file.write('\\n')\n",
    "    file.write(f\"Total Votes: {num_row}\")\n",
    "    file.write('\\n')\n",
    "    file.write(\"__________________\")\n",
    "    file.write('\\n')\n",
    "    file.write(f\"Khan: {c3_percent}% ({c3_vote_total})\")\n",
    "    file.write('\\n')\n",
    "    file.write(f\"Correy: {c4_percent}% ({c4_vote_total})\")\n",
    "    file.write('\\n')\n",
    "    file.write(f\"Li: {c2_percent}% ({c2_vote_total})\")\n",
    "    file.write('\\n')\n",
    "    file.write(f\"O'Tooley: {c1_percent}% ({c1_vote_total})\")\n",
    "    file.write('\\n')\n",
    "    file.write(\"__________________\")\n",
    "    file.write('\\n')\n",
    "    file.write(f\"Winner is: {most_vote}\")\n",
    "    file.write('\\n')\n",
    "    file.write(\"__________________\")   \n",
    "    \n",
    "    "
   ]
  },
  {
   "cell_type": "code",
   "execution_count": null,
   "id": "7510f1ad",
   "metadata": {},
   "outputs": [],
   "source": []
  }
 ],
 "metadata": {
  "kernelspec": {
   "display_name": "Python 3",
   "language": "python",
   "name": "python3"
  },
  "language_info": {
   "codemirror_mode": {
    "name": "ipython",
    "version": 3
   },
   "file_extension": ".py",
   "mimetype": "text/x-python",
   "name": "python",
   "nbconvert_exporter": "python",
   "pygments_lexer": "ipython3",
   "version": "3.8.8"
  }
 },
 "nbformat": 4,
 "nbformat_minor": 5
}
