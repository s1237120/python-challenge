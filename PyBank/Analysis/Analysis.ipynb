{
 "cells": [
  {
   "cell_type": "code",
   "execution_count": 1,
   "id": "acc51af6",
   "metadata": {},
   "outputs": [],
   "source": [
    "import os\n",
    "import csv"
   ]
  },
  {
   "cell_type": "code",
   "execution_count": 2,
   "id": "32dbbb40",
   "metadata": {},
   "outputs": [],
   "source": [
    "csvpath=os.path.join(\"..\",\"Resources\",\"budget_data.csv\")"
   ]
  },
  {
   "cell_type": "code",
   "execution_count": 42,
   "id": "a6d8201a",
   "metadata": {},
   "outputs": [
    {
     "name": "stdout",
     "output_type": "stream",
     "text": [
      "38382578\n",
      "86\n",
      "1170593\n",
      "-1196225\n",
      "7803.476744186047\n"
     ]
    }
   ],
   "source": [
    "with open(csvpath) as csvfile:\n",
    "    csvreader=csv.reader(csvfile,delimiter=\",\")\n",
    "    \n",
    "    header=next(csvreader)\n",
    "   \n",
    "    row_length=0\n",
    "    net=0\n",
    "    prev=0\n",
    "    profit_list=[]\n",
    "    first=True\n",
    "    diff_list=[]\n",
    "    \n",
    "    for row in csvreader:\n",
    "        \n",
    "        if first:\n",
    "            diff_list.append(0)\n",
    "            first = False\n",
    "            \n",
    "        else:\n",
    "            diff_list.append(int(row[1])-prev)\n",
    "        row_length+=1\n",
    "        net += int(row[1])\n",
    "        \n",
    "        profit_list.append(int(row[1]))\n",
    "        prev=int(row[1])\n",
    "        \n",
    "    \n",
    "    \n",
    "    print (net)\n",
    "    print(row_length)\n",
    "    print(max(profit_list))\n",
    "    print(min(profit_list))\n",
    "    #print(diff_list) \n",
    "    print (sum(diff_list)/row_length)\n"
   ]
  },
  {
   "cell_type": "code",
   "execution_count": null,
   "id": "eb7c8388",
   "metadata": {},
   "outputs": [],
   "source": [
    "\n",
    "\n"
   ]
  },
  {
   "cell_type": "code",
   "execution_count": null,
   "id": "32212534",
   "metadata": {},
   "outputs": [],
   "source": []
  }
 ],
 "metadata": {
  "kernelspec": {
   "display_name": "Python 3",
   "language": "python",
   "name": "python3"
  },
  "language_info": {
   "codemirror_mode": {
    "name": "ipython",
    "version": 3
   },
   "file_extension": ".py",
   "mimetype": "text/x-python",
   "name": "python",
   "nbconvert_exporter": "python",
   "pygments_lexer": "ipython3",
   "version": "3.8.8"
  }
 },
 "nbformat": 4,
 "nbformat_minor": 5
}
