{
 "cells": [
  {
   "cell_type": "code",
   "execution_count": 1,
   "id": "acc51af6",
   "metadata": {},
   "outputs": [],
   "source": [
    "import os\n",
    "import csv"
   ]
  },
  {
   "cell_type": "code",
   "execution_count": 2,
   "id": "32dbbb40",
   "metadata": {},
   "outputs": [],
   "source": [
    "csvpath=os.path.join(\"..\",\"Resources\",\"budget_data.csv\") "
   ]
  },
  {
   "cell_type": "code",
   "execution_count": 7,
   "id": "a6d8201a",
   "metadata": {},
   "outputs": [
    {
     "name": "stdout",
     "output_type": "stream",
     "text": [
      "Financial Analysis\n",
      "__________________\n",
      "Total Months: 86\n",
      "Total: $38382578\n",
      "Average Change: $-2288.1976744186045\n",
      "Greatest Increase in Profits: $1170593\n",
      "Greatest Decrease in Profits: $-1196225\n"
     ]
    }
   ],
   "source": [
    "with open(csvpath) as csvfile:\n",
    "    csvreader=csv.reader(csvfile,delimiter=\",\")\n",
    "    \n",
    "    header=next(csvreader)\n",
    "   \n",
    "    row_length=0\n",
    "    net=0\n",
    "    prev=0\n",
    "    profit_list=[]\n",
    "    first=True\n",
    "    diff_list=[]\n",
    "    \n",
    "    for row in csvreader:\n",
    "        \n",
    "        if first:\n",
    "            diff_list.append(0)\n",
    "            first = False\n",
    "            \n",
    "        else:\n",
    "            diff_list.append(int(row[1])-prev)\n",
    "        row_length+=1\n",
    "        net += int(row[1])\n",
    "        \n",
    "        profit_list.append(int(row[1]))\n",
    "        prev=int(row[1])\n",
    "        \n",
    "    \n",
    "    print (\"Financial Analysis\")\n",
    "    print (\"__________________\")\n",
    "    print(f\"Total Months: {row_length}\")\n",
    "    print (f\"Total: ${net}\")\n",
    "    print (f\"Average Change: ${sum(diff_list)/row_length}\")\n",
    "    print(f\"Greatest Increase in Profits: ${max(profit_list)}\")\n",
    "    print(f\"Greatest Decrease in Profits: ${min(profit_list)}\")\n",
    "    \n",
    "    \n",
    "output_path=os.path.join(\"..\",\"Analysis\",\"Analysis Result.txt\")    \n",
    "with open(output_path, 'w') as file:    \n",
    "    file.write(\"Financial Analysis\")\n",
    "    file.write('\\n')\n",
    "    file.write(\"__________________\")\n",
    "    file.write('\\n')\n",
    "    file.write(f\"Total Months: {row_length}\")\n",
    "    file.write('\\n')\n",
    "    file.write(f\"Total: ${net}\")\n",
    "    file.write('\\n')\n",
    "    file.write(f\"Average Change: ${sum(diff_list)/row_length}\")\n",
    "    file.write('\\n')\n",
    "    file.write(f\"Greatest Increase in Profits: ${max(profit_list)}\")\n",
    "    file.write('\\n')\n",
    "    file.write(f\"Greatest Decrease in Profits: ${min(profit_list)}\")\n",
    "    file.close()\n",
    "    \n",
    "    \n",
    "    "
   ]
  },
  {
   "cell_type": "code",
   "execution_count": null,
   "id": "eb7c8388",
   "metadata": {},
   "outputs": [],
   "source": [
    "\n",
    "\n"
   ]
  },
  {
   "cell_type": "code",
   "execution_count": null,
   "id": "32212534",
   "metadata": {},
   "outputs": [],
   "source": []
  }
 ],
 "metadata": {
  "kernelspec": {
   "display_name": "Python 3",
   "language": "python",
   "name": "python3"
  },
  "language_info": {
   "codemirror_mode": {
    "name": "ipython",
    "version": 3
   },
   "file_extension": ".py",
   "mimetype": "text/x-python",
   "name": "python",
   "nbconvert_exporter": "python",
   "pygments_lexer": "ipython3",
   "version": "3.8.8"
  }
 },
 "nbformat": 4,
 "nbformat_minor": 5
}
